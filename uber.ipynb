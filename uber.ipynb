{
 "cells": [
  {
   "cell_type": "code",
   "execution_count": null,
   "metadata": {
    "collapsed": true
   },
   "outputs": [],
   "source": [
    "import numpy as np\n",
    "import pandas as pd"
   ]
  },
  {
   "cell_type": "code",
   "execution_count": null,
   "metadata": {
    "collapsed": false
   },
   "outputs": [],
   "source": [
    "taxi = pd.read_csv(\"nyc_taxi.csv\").rename(columns = str.lower).rename(columns={'tpep_pickup_datetime': 'pickup_date', 'tpep_dropoff_datetime' : 'dropoff_date' })\n",
    "\n",
    "taxi = taxi.assign(pickup_date = lambda x: pd.to_datetime(x['pickup_date'], format = '%Y-%m-%d %H:%M:%S'),\n",
    "           dropoff_date = lambda x: pd.to_datetime(x['dropoff_date'], format = '%Y-%m-%d %H:%M:%S'))\n",
    "\n",
    "taxi = taxi.set_index(['pickup_date'])"
   ]
  },
  {
   "cell_type": "code",
   "execution_count": null,
   "metadata": {
    "collapsed": false
   },
   "outputs": [],
   "source": [
    "taxi.columns"
   ]
  },
  {
   "cell_type": "code",
   "execution_count": null,
   "metadata": {
    "collapsed": false
   },
   "outputs": [],
   "source": [
    "taxi.sample(10)\n"
   ]
  },
  {
   "cell_type": "code",
   "execution_count": null,
   "metadata": {
    "collapsed": false
   },
   "outputs": [],
   "source": [
    "taxi.dtypes"
   ]
  },
  {
   "cell_type": "code",
   "execution_count": null,
   "metadata": {
    "collapsed": false
   },
   "outputs": [],
   "source": [
    "taxi = taxi.assign(pickup_hour = taxi.index.hour)\n",
    "taxi.sample(10)"
   ]
  },
  {
   "cell_type": "code",
   "execution_count": null,
   "metadata": {
    "collapsed": false
   },
   "outputs": [],
   "source": [
    "# number of days covered by this dataset?\n",
    "# len(taxi.pickup_date.dt.day.unique()) # 31\n",
    "\n"
   ]
  },
  {
   "cell_type": "code",
   "execution_count": null,
   "metadata": {
    "collapsed": false
   },
   "outputs": [],
   "source": [
    "taxi.sort_index(inplace=True)\n",
    "\n",
    "x = pd.DataFrame(taxi.groupby(['pickup_hour'])['pickup_hour'].count())\n",
    "x = x.assign(avg = x.pickup_hour / 31)\n",
    "x['hour'] = x.index\n",
    "x\n"
   ]
  },
  {
   "cell_type": "code",
   "execution_count": null,
   "metadata": {
    "collapsed": false
   },
   "outputs": [],
   "source": [
    "from bokeh.io import output_notebook, show, output_file, curdoc\n",
    "from bokeh.plotting import figure\n",
    "from bokeh.models import ColumnDataSource, CategoricalColorMapper, HoverTool\n",
    "from bokeh.layouts import gridplot\n",
    "from bokeh.charts import Bar, output_file, show\n",
    "from bokeh.palettes import Viridis\n",
    "\n"
   ]
  },
  {
   "cell_type": "code",
   "execution_count": null,
   "metadata": {
    "collapsed": false
   },
   "outputs": [],
   "source": [
    "\n",
    "source = ColumnDataSource(x)\n",
    "\n",
    "output_notebook()\n",
    "p1 = figure(x_axis_label = \"hour\", y_axis_label = \"average number of rides per hour\", title = \"average number of Uber rides per hour in Jan 2015\")\n",
    "p1.line('hour', 'avg', source = source, line_width = 5, color = \"#E84F22\")\n",
    "p1.circle('hour', 'avg', source = source, color = '#E84F22', size = 8, line_width = 0)\n",
    "\n",
    "show(p1)"
   ]
  },
  {
   "cell_type": "code",
   "execution_count": null,
   "metadata": {
    "collapsed": false
   },
   "outputs": [],
   "source": [
    "x = pd.DataFrame(taxi.groupby(['pickup_hour'])['tip_amount'].mean())\n",
    "x['hour'] = x.index\n",
    "x\n",
    "\n"
   ]
  },
  {
   "cell_type": "code",
   "execution_count": null,
   "metadata": {
    "collapsed": false
   },
   "outputs": [],
   "source": [
    "source = ColumnDataSource(x)\n",
    "\n",
    "output_notebook()\n",
    "p1 = figure(x_axis_label = \"hour\", y_axis_label = \"average tip amount\", title = \"average tip given per hour in Jan 2015\")\n",
    "p1.circle('hour', 'tip_amount', source = source, color = '#F2C500', size = 8, line_width = 0)\n",
    "p1.line('hour', 'tip_amount', source = source, line_width = 5, line_color = '#F2C500')\n",
    "show(p1)"
   ]
  },
  {
   "cell_type": "code",
   "execution_count": null,
   "metadata": {
    "collapsed": true
   },
   "outputs": [],
   "source": []
  },
  {
   "cell_type": "code",
   "execution_count": null,
   "metadata": {
    "collapsed": true
   },
   "outputs": [],
   "source": []
  },
  {
   "cell_type": "code",
   "execution_count": null,
   "metadata": {
    "collapsed": true
   },
   "outputs": [],
   "source": []
  }
 ],
 "metadata": {
  "kernelspec": {
   "display_name": "Python 3",
   "language": "python",
   "name": "python3"
  },
  "language_info": {
   "codemirror_mode": {
    "name": "ipython",
    "version": 3
   },
   "file_extension": ".py",
   "mimetype": "text/x-python",
   "name": "python",
   "nbconvert_exporter": "python",
   "pygments_lexer": "ipython3",
   "version": "3.6.0"
  }
 },
 "nbformat": 4,
 "nbformat_minor": 2
}
